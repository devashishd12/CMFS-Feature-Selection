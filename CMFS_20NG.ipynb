{
 "cells": [
  {
   "cell_type": "markdown",
   "metadata": {},
   "source": [
    "# Implementation of CMFS, iCMFS on 20NG"
   ]
  },
  {
   "cell_type": "code",
   "execution_count": 1,
   "metadata": {
    "collapsed": false
   },
   "outputs": [],
   "source": [
    "\"\"\"\n",
    "Authors: Abhirav Gholba\n",
    "         Bhargav Srinivasa\n",
    "         Devashish Deshpande\n",
    "         Gauri Kholkar\n",
    "         Mrunmayee Nasery\n",
    "\"\"\"\n",
    "from sklearn.datasets import fetch_20newsgroups\n",
    "from sklearn.feature_extraction.text import CountVectorizer\n",
    "from sklearn.feature_selection import SelectKBest, chi2\n",
    "from sklearn.naive_bayes import MultinomialNB\n",
    "from sklearn import metrics\n",
    "import matplotlib.pyplot as plt\n",
    "import numpy as np\n",
    "import operator\n",
    "import math\n",
    "%matplotlib inline"
   ]
  },
  {
   "cell_type": "code",
   "execution_count": 2,
   "metadata": {
    "collapsed": false
   },
   "outputs": [],
   "source": [
    "newsgroups_train = fetch_20newsgroups(subset='train', remove=('headers', 'footers', 'quotes'))\n",
    "vec = CountVectorizer(stop_words='english')\n",
    "document_term_mat = vec.fit_transform(newsgroups_train.data)\n",
    "term_document_mat = document_term_mat.T\n",
    "documents = len(newsgroups_train.filenames)\n",
    "categories = len(newsgroups_train.target_names)\n",
    "terms = term_document_mat.shape[0]"
   ]
  },
  {
   "cell_type": "code",
   "execution_count": 3,
   "metadata": {
    "collapsed": false
   },
   "outputs": [
    {
     "name": "stdout",
     "output_type": "stream",
     "text": [
      "No. of documents: 11314\n",
      "No. of categories: 20\n",
      "matrix.shape: (101323, 11314)\n",
      "8\n",
      "<class 'scipy.sparse.csc.csc_matrix'>\n"
     ]
    }
   ],
   "source": [
    "print \"No. of documents: %d\\nNo. of categories: %d\" % (documents, categories)\n",
    "print \"matrix.shape: {0}\".format(term_document_mat.shape)\n",
    "print newsgroups_train.target[10]\n",
    "print type(term_document_mat)"
   ]
  },
  {
   "cell_type": "markdown",
   "metadata": {},
   "source": [
    "### Create Term-category feature-appearance matrix"
   ]
  },
  {
   "cell_type": "code",
   "execution_count": 4,
   "metadata": {
    "collapsed": false
   },
   "outputs": [],
   "source": [
    "term_category_mat = np.zeros((terms, categories))\n",
    "for doc in range(documents):\n",
    "    cat = newsgroups_train.target[doc]\n",
    "    for row in term_document_mat.getcol(doc).nonzero()[0]:\n",
    "        term_category_mat[row][cat] += 1"
   ]
  },
  {
   "cell_type": "code",
   "execution_count": 5,
   "metadata": {
    "collapsed": false
   },
   "outputs": [
    {
     "name": "stdout",
     "output_type": "stream",
     "text": [
      "Term-category matrix shape: (101323, 20) \n",
      "\n"
     ]
    }
   ],
   "source": [
    "print \"Term-category matrix shape: {0} \\n\".format(term_category_mat.shape)"
   ]
  },
  {
   "cell_type": "markdown",
   "metadata": {},
   "source": [
    "### Perform CMFS, iCMFS and CC term-category matrix\n",
    "\n",
    "\\begin{equation}\n",
    "iCMFS(T_k, C_i) = P(T_k|C_i) * P(C_i, T_k) / P(C_i)\n",
    "\\end{equation}"
   ]
  },
  {
   "cell_type": "code",
   "execution_count": 6,
   "metadata": {
    "collapsed": true
   },
   "outputs": [],
   "source": [
    "cc_term_category_mat = np.copy(term_category_mat)\n",
    "icmfs_term_category_mat = np.copy(term_category_mat)\n",
    "cmfs_term_category_mat = np.copy(term_category_mat)"
   ]
  },
  {
   "cell_type": "code",
   "execution_count": 7,
   "metadata": {
    "collapsed": false
   },
   "outputs": [
    {
     "name": "stdout",
     "output_type": "stream",
     "text": [
      "[[-1.78838352  1.13194884 -1.17605256 ..., -1.8480978  -0.40521161\n",
      "  -1.51719869]\n",
      " [-0.61103784 -0.42400297 -2.15122478 ...,  3.48088231  1.17184346\n",
      "  -0.51875683]\n",
      " [ 0.94644767  0.83129307  0.294858   ...,  1.09212797  0.68361091\n",
      "   1.0000758 ]\n",
      " ..., \n",
      " [ 3.27637045  3.00309585  1.75281203 ...,  1.84416838  2.65497586\n",
      "   3.40416536]\n",
      " [ 3.27637045  3.00309585  1.75281203 ...,  1.84416838  2.65497586\n",
      "   3.40416536]\n",
      " [ 3.27637045  3.00309585  1.75281203 ...,  1.84416838  2.65497586\n",
      "   3.40416536]]\n",
      "[[  7.74349505e-07   1.70632033e-04   3.28741992e-05 ...,   7.37862469e-06\n",
      "    5.40474781e-05   3.30987341e-06]\n",
      " [  3.53866740e-05   5.03514822e-05   4.05411846e-06 ...,   6.60897657e-04\n",
      "    2.01623925e-04   3.78141300e-05]\n",
      " [  7.54273777e-06   6.49250937e-06   2.64643844e-06 ...,   1.14997232e-05\n",
      "    5.26462472e-06   8.06015469e-06]\n",
      " ..., \n",
      " [  9.69780571e-06   8.34751204e-06   3.40256371e-06 ...,   3.69633960e-06\n",
      "    6.76880321e-06   1.03630560e-05]\n",
      " [  9.69780571e-06   8.34751204e-06   3.40256371e-06 ...,   3.69633960e-06\n",
      "    6.76880321e-06   1.03630560e-05]\n",
      " [  9.69780571e-06   8.34751204e-06   3.40256371e-06 ...,   3.69633960e-06\n",
      "    6.76880321e-06   1.03630560e-05]]\n",
      "[[  2.92719610e-08   7.28597222e-06   2.78309396e-06 ...,   5.88282467e-07\n",
      "    2.72656836e-06   1.18472355e-07]\n",
      " [  1.33768710e-06   2.15000369e-06   3.43217261e-07 ...,   5.26920017e-05\n",
      "    1.01714536e-05   1.35350464e-06]\n",
      " [  2.85130583e-07   2.77229556e-07   2.24044601e-07 ...,   9.16849120e-07\n",
      "    2.65587955e-07   2.88502123e-07]\n",
      " ..., \n",
      " [  3.66596463e-07   3.56438001e-07   2.88057344e-07 ...,   2.94701503e-07\n",
      "    3.41470227e-07   3.70931301e-07]\n",
      " [  3.66596463e-07   3.56438001e-07   2.88057344e-07 ...,   2.94701503e-07\n",
      "    3.41470227e-07   3.70931301e-07]\n",
      " [  3.66596463e-07   3.56438001e-07   2.88057344e-07 ...,   2.94701503e-07\n",
      "    3.41470227e-07   3.70931301e-07]]\n"
     ]
    }
   ],
   "source": [
    "term_freq = np.sum(term_category_mat)\n",
    "term_freq_per_cat = np.cumsum(term_category_mat, axis=0)[-1, :]\n",
    "\n",
    "for term in range(terms):\n",
    "    # Frequency of the term across all categories\n",
    "    # ICMFS(tk,ci) = (P(tk|ci)*P(ci|tk))/P(ci)\n",
    "    total_term_freq = sum(term_category_mat[term, :])\n",
    "    for cat in range(categories):\n",
    "        p_ci = float((term_freq_per_cat[cat] / term_freq))\n",
    "        p_tk = float((total_term_freq / term_freq))\n",
    "        p_ci_tk = float(term_category_mat[term][cat] + 1) / (total_term_freq + categories)\n",
    "        p_tk_ci = float(term_category_mat[term][cat] + 1) / (term_freq_per_cat[cat] + terms)\n",
    "        p_ntk_nci = float(term_freq - total_term_freq - term_freq_per_cat[cat] + term_category_mat[term][cat] + 1) / (term_freq - term_freq_per_cat[cat] + terms)\n",
    "        p_tk_nci = float(total_term_freq - term_category_mat[term][cat] - 1) / (term_freq - term_freq_per_cat[cat] + terms)\n",
    "        p_ntk_ci = float(term_freq_per_cat[cat] - term_category_mat[term][cat] - 1) / (term_freq_per_cat[cat] + terms)\n",
    "        \n",
    "        cc_term_category_mat[term][cat] = (math.sqrt(documents) * ((p_tk_ci * p_ntk_nci) - (p_tk_nci * p_ntk_ci))) / math.sqrt(p_tk * (1-p_tk) * p_ci * (1-p_ci))\n",
    "        icmfs_term_category_mat[term][cat] = p_ci_tk * p_tk_ci / p_ci\n",
    "        cmfs_term_category_mat[term][cat] = p_ci_tk * p_tk_ci\n",
    "    \n",
    "# Final CMFS matrix\n",
    "print cc_term_category_mat\n",
    "print icmfs_term_category_mat\n",
    "print cmfs_term_category_mat"
   ]
  },
  {
   "cell_type": "markdown",
   "metadata": {},
   "source": [
    "### Create term-cmfs dictionary"
   ]
  },
  {
   "cell_type": "code",
   "execution_count": 8,
   "metadata": {
    "collapsed": false
   },
   "outputs": [],
   "source": [
    "# Create term id (i.e. row no) - iCMFS dict, CMFS dict\n",
    "term_icmfs_dict = {}\n",
    "icmfs_max = np.max(icmfs_term_category_mat, axis=1)\n",
    "term_cmfs_dict = {}\n",
    "cmfs_max = np.max(cmfs_term_category_mat, axis=1)\n",
    "for i in range(terms):\n",
    "    term_icmfs_dict[i] = icmfs_max[i]\n",
    "    term_cmfs_dict[i] = cmfs_max[i]    "
   ]
  },
  {
   "cell_type": "markdown",
   "metadata": {},
   "source": [
    "### Extract top 2000 features"
   ]
  },
  {
   "cell_type": "code",
   "execution_count": 9,
   "metadata": {
    "collapsed": true
   },
   "outputs": [],
   "source": [
    "sorted_feature_list_cmfs = sorted(term_cmfs_dict.items(), key=operator.itemgetter(1), reverse=True)[:2000]\n",
    "sorted_feature_list_icmfs = sorted(term_icmfs_dict.items(), key=operator.itemgetter(1), reverse=True)[:2000]\n",
    "# to use for IGFSS\n",
    "sorted_feature_list_icmfs_4000 = sorted(term_icmfs_dict.items(), key=operator.itemgetter(1), reverse=True)[:4000]\n",
    "sorted_feature_list_cmfs_4000 = sorted(term_cmfs_dict.items(), key=operator.itemgetter(1), reverse=True)[:4000]\n"
   ]
  },
  {
   "cell_type": "markdown",
   "metadata": {},
   "source": [
    "### Plug in IGFSS"
   ]
  },
  {
   "cell_type": "code",
   "execution_count": 10,
   "metadata": {
    "collapsed": true
   },
   "outputs": [],
   "source": [
    "max_feature_column_cc = np.argmax(np.abs(cc_term_category_mat), axis = 1)\n",
    "max_feature_sign_cc = np.empty_like(max_feature_column_cc)\n",
    "for term in range(len(max_feature_column_cc)):\n",
    "    max_val_col = max_feature_column_cc[term]\n",
    "    max_feature_sign_cc[term] = np.sign(cc_term_category_mat[term][max_val_col])"
   ]
  },
  {
   "cell_type": "code",
   "execution_count": 11,
   "metadata": {
    "collapsed": false
   },
   "outputs": [],
   "source": [
    "cat_positive_negative = np.zeros(shape=(categories, 2), dtype=int)\n",
    "nfrs = 0.4\n",
    "\n",
    "final_term_list_ICMFS = []\n",
    "for term, icmfs in sorted_feature_list_icmfs_4000:\n",
    "    sign = max_feature_sign_cc[term]\n",
    "    cat = max_feature_column_cc[term]\n",
    "    if (((float(cat_positive_negative[cat, 1]) / 100) < nfrs) and\n",
    "        ((cat_positive_negative[cat, 0] + cat_positive_negative[cat, 1]) < 10)):\n",
    "        if sign > 0:\n",
    "            if (((float(cat_positive_negative[cat, 0]) / 10) < (1 - nfrs))):\n",
    "                cat_positive_negative[cat, 0] += 1\n",
    "                final_term_list_ICMFS.append(term)\n",
    "        else:\n",
    "            cat_positive_negative[cat, 1] += 1\n",
    "            final_term_list_ICMFS.append(term)\n",
    "\n",
    "cat_positive_negative = np.zeros(shape=(categories, 2), dtype=int)\n",
    "final_term_list_CMFS = []\n",
    "for term, icmfs in sorted_feature_list_cmfs_4000:\n",
    "    sign = max_feature_sign_cc[term]\n",
    "    cat = max_feature_column_cc[term]\n",
    "    if (((float(cat_positive_negative[cat, 1]) / 100) < nfrs) and\n",
    "        ((cat_positive_negative[cat, 0] + cat_positive_negative[cat, 1]) < 10)):\n",
    "        if sign > 0:\n",
    "            if (((float(cat_positive_negative[cat, 0]) / 10) < (1 - nfrs))):\n",
    "                cat_positive_negative[cat, 0] += 1\n",
    "                final_term_list_CMFS.append(term)\n",
    "        else:\n",
    "            cat_positive_negative[cat, 1] += 1\n",
    "            final_term_list_CMFS.append(term)\n"
   ]
  },
  {
   "cell_type": "code",
   "execution_count": 12,
   "metadata": {
    "collapsed": false
   },
   "outputs": [],
   "source": [
    "for term, icmfs in sorted_feature_list_icmfs:\n",
    "    if term not in final_term_list_ICMFS and len(final_term_list_ICMFS) < 2000:\n",
    "        final_term_list_ICMFS.append(term)\n",
    "        \n",
    "for term, cmfs in sorted_feature_list_cmfs:\n",
    "    if term not in final_term_list_CMFS and len(final_term_list_CMFS) < 2000:\n",
    "        final_term_list_CMFS.append(term)"
   ]
  },
  {
   "cell_type": "markdown",
   "metadata": {},
   "source": [
    "### Naive bayes"
   ]
  },
  {
   "cell_type": "code",
   "execution_count": 13,
   "metadata": {
    "collapsed": false
   },
   "outputs": [
    {
     "name": "stdout",
     "output_type": "stream",
     "text": [
      "(11314, 2000)\n",
      "(11314, 2000)\n",
      "(11314, 2000)\n",
      "(11314, 2000)\n"
     ]
    }
   ],
   "source": [
    "feature_list_cmfs = [term for term, _ in sorted_feature_list_cmfs]\n",
    "# Create matrix for only the selected features. Note that the features are being extracted\n",
    "# on the original document-term matrix. This will help in mapping with the targets easily.\n",
    "selected_feature_matrix_cmfs = document_term_mat[:, feature_list_cmfs]\n",
    "print selected_feature_matrix_cmfs.shape\n",
    "\n",
    "feature_list_icmfs = [term for term, _ in sorted_feature_list_icmfs]\n",
    "# Create matrix for only the selected features. Note that the features are being extracted\n",
    "# on the original document-term matrix. This will help in mapping with the targets easily.\n",
    "selected_feature_matrix_icmfs = document_term_mat[:, feature_list_icmfs]\n",
    "print selected_feature_matrix_icmfs.shape\n",
    "\n",
    "selected_feature_matrix_final_ICMFS = document_term_mat[:, final_term_list_ICMFS]\n",
    "print selected_feature_matrix_final_ICMFS.shape\n",
    "\n",
    "selected_feature_matrix_final_CMFS = document_term_mat[:, final_term_list_CMFS]\n",
    "print selected_feature_matrix_final_CMFS.shape"
   ]
  },
  {
   "cell_type": "code",
   "execution_count": 14,
   "metadata": {
    "collapsed": false
   },
   "outputs": [],
   "source": [
    "newsgroups_test = fetch_20newsgroups(subset='test', remove=('headers', 'footers', 'quotes'))\n",
    "document_term_mat_test = vec.transform(newsgroups_test.data)\n",
    "clf_cmfs = MultinomialNB().fit(selected_feature_matrix_cmfs, newsgroups_train.target)\n",
    "clf_icmfs = MultinomialNB().fit(selected_feature_matrix_icmfs, newsgroups_train.target)\n",
    "clf_final_ICMFS = MultinomialNB().fit(selected_feature_matrix_final_ICMFS, newsgroups_train.target)\n",
    "clf_final_CMFS = MultinomialNB().fit(selected_feature_matrix_final_CMFS, newsgroups_train.target)"
   ]
  },
  {
   "cell_type": "markdown",
   "metadata": {},
   "source": [
    "### Evaluate accuracy"
   ]
  },
  {
   "cell_type": "code",
   "execution_count": 15,
   "metadata": {
    "collapsed": false
   },
   "outputs": [
    {
     "name": "stdout",
     "output_type": "stream",
     "text": [
      "0.592272968667\n",
      "0.592007434944\n",
      "0.62599575146\n",
      "0.625066383431\n"
     ]
    }
   ],
   "source": [
    "pred_cmfs = clf_cmfs.predict(document_term_mat_test[:, feature_list_cmfs])\n",
    "print metrics.f1_score(newsgroups_test.target, pred_cmfs, average='micro')\n",
    "\n",
    "pred_final_cmfs = clf_final_CMFS.predict(document_term_mat_test[:, final_term_list_CMFS])\n",
    "print metrics.f1_score(newsgroups_test.target, pred_final_cmfs, average='micro')\n",
    "\n",
    "pred_icmfs = clf_icmfs.predict(document_term_mat_test[:, feature_list_icmfs])\n",
    "print metrics.f1_score(newsgroups_test.target, pred_icmfs, average='micro')\n",
    "\n",
    "pred_final_icmfs = clf_final_ICMFS.predict(document_term_mat_test[:, final_term_list_ICMFS])\n",
    "print metrics.f1_score(newsgroups_test.target, pred_final_icmfs, average='micro')\n",
    "\n"
   ]
  },
  {
   "cell_type": "code",
   "execution_count": 16,
   "metadata": {
    "collapsed": false
   },
   "outputs": [],
   "source": [
    "icmfs_scores = []\n",
    "for i in range(200, 2001, 200):\n",
    "    feature_list_icmfs = [term for term, _ in sorted_feature_list_icmfs[:i]]\n",
    "    selected_feature_matrix_icmfs = document_term_mat[:, feature_list_icmfs]\n",
    "    clf_icmfs = MultinomialNB().fit(selected_feature_matrix_icmfs, newsgroups_train.target)\n",
    "    pred_icmfs = clf_icmfs.predict(document_term_mat_test[:, feature_list_icmfs])\n",
    "    f1_score_icmfs = metrics.f1_score(newsgroups_test.target, pred_icmfs, average='micro')\n",
    "    icmfs_scores.append(f1_score_icmfs * 100)\n",
    "\n",
    "cmfs_scores = []\n",
    "for i in range(200, 2001, 200):\n",
    "    feature_list_cmfs = [term for term, _ in sorted_feature_list_cmfs[:i]]\n",
    "    selected_feature_matrix_cmfs = document_term_mat[:, feature_list_cmfs]\n",
    "    clf_cmfs = MultinomialNB().fit(selected_feature_matrix_cmfs, newsgroups_train.target)\n",
    "    pred_cmfs = clf_cmfs.predict(document_term_mat_test[:, feature_list_cmfs])\n",
    "    f1_score_cmfs = metrics.f1_score(newsgroups_test.target, pred_cmfs, average='micro')\n",
    "    cmfs_scores.append(f1_score_cmfs * 100)\n",
    "\n",
    "final_scores_ICMFS = []\n",
    "for i in range(200, 2001, 200):\n",
    "    feature_list_final_ICMFS = [term for term in final_term_list_ICMFS[:i]]\n",
    "    selected_feature_matrix_final_ICMFS = document_term_mat[:, feature_list_final_ICMFS]\n",
    "    clf_final_ICMFS = MultinomialNB().fit(selected_feature_matrix_final_ICMFS, newsgroups_train.target)\n",
    "    pred_final_ICMFS = clf_final_ICMFS.predict(document_term_mat_test[:, feature_list_final_ICMFS])\n",
    "    f1_score_final_ICMFS = metrics.f1_score(newsgroups_test.target, pred_final_ICMFS, average='micro')\n",
    "    final_scores_ICMFS.append(f1_score_final_ICMFS * 100)\n",
    "    \n",
    "final_scores_CMFS = []\n",
    "for i in range(200, 2001, 200):\n",
    "    feature_list_final_CMFS = [term for term in final_term_list_CMFS[:i]]\n",
    "    selected_feature_matrix_final_CMFS = document_term_mat[:, feature_list_final_CMFS]\n",
    "    clf_final_CMFS = MultinomialNB().fit(selected_feature_matrix_final_CMFS, newsgroups_train.target)\n",
    "    pred_final_CMFS = clf_final_CMFS.predict(document_term_mat_test[:, feature_list_final_CMFS])\n",
    "    f1_score_final_CMFS = metrics.f1_score(newsgroups_test.target, pred_final_CMFS, average='micro')\n",
    "    final_scores_CMFS.append(f1_score_final_CMFS * 100)"
   ]
  },
  {
   "cell_type": "markdown",
   "metadata": {},
   "source": [
    "### Test with chi2"
   ]
  },
  {
   "cell_type": "code",
   "execution_count": 17,
   "metadata": {
    "collapsed": false
   },
   "outputs": [],
   "source": [
    "ch2_scores = []\n",
    "for i in range(200, 2001, 200):\n",
    "    ch2 = SelectKBest(chi2, k=i)\n",
    "    ch2_train = ch2.fit_transform(document_term_mat, newsgroups_train.target)\n",
    "    ch2_test = ch2.transform(document_term_mat_test)\n",
    "    clf = MultinomialNB().fit(ch2_train, newsgroups_train.target)\n",
    "    pred = clf.predict(ch2_test)\n",
    "    f1_score = metrics.f1_score(newsgroups_test.target, pred, average='micro')\n",
    "    ch2_scores.append(f1_score * 100)"
   ]
  },
  {
   "cell_type": "markdown",
   "metadata": {},
   "source": [
    "### Plot Accuracy vs Number of features graph"
   ]
  },
  {
   "cell_type": "code",
   "execution_count": 18,
   "metadata": {
    "collapsed": false,
    "scrolled": true
   },
   "outputs": [
    {
     "data": {
      "image/png": "[encoded data removed]",
      "text/plain": [
       "<matplotlib.figure.Figure at 0x7f86292c3d50>"
      ]
     },
     "metadata": {},
     "output_type": "display_data"
    }
   ],
   "source": [
    "x = [i for i in range(200, 2001, 200)]\n",
    "plt.plot(x, icmfs_scores, x, ch2_scores, x, cmfs_scores, x, final_scores_ICMFS, x, final_scores_CMFS)\n",
    "plt.xlabel(\"No of features\")\n",
    "plt.ylabel(\"Accuracy\")\n",
    "plt.legend((\"ICMFS\", \"chi2\", \"CMFS\", \"IGFSS+ICMFS\",\"IGFSS+CMFS\"), loc='best')\n",
    "plt.show()"
   ]
  }
 ],
 "metadata": {
  "kernelspec": {
   "display_name": "Python 2",
   "language": "python",
   "name": "python2"
  },
  "language_info": {
   "codemirror_mode": {
    "name": "ipython",
    "version": 2
   },
   "file_extension": ".py",
   "mimetype": "text/x-python",
   "name": "python",
   "nbconvert_exporter": "python",
   "pygments_lexer": "ipython2",
   "version": "2.7.10"
  }
 },
 "nbformat": 4,
 "nbformat_minor": 0
}
