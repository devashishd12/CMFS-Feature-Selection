{
 "cells": [
  {
   "cell_type": "markdown",
   "metadata": {},
   "source": [
    "# Implementation of Standard CMFS on 20NG"
   ]
  },
  {
   "cell_type": "code",
   "execution_count": 1,
   "metadata": {
    "collapsed": false
   },
   "outputs": [],
   "source": [
    "\"\"\"\n",
    "Authors: Abhirav Gholba\n",
    "         Bhargav Srinivasa\n",
    "         Devashish Deshpande\n",
    "         Gauri Kholkar\n",
    "         Mrunmayee Nasery\n",
    "\"\"\"\n",
    "from sklearn.datasets import fetch_20newsgroups\n",
    "from sklearn.feature_extraction.text import CountVectorizer\n",
    "from sklearn.feature_selection import SelectKBest, chi2\n",
    "from sklearn.naive_bayes import MultinomialNB\n",
    "from sklearn import metrics\n",
    "import matplotlib.pyplot as plt\n",
    "import numpy as np\n",
    "import operator\n",
    "%matplotlib inline"
   ]
  },
  {
   "cell_type": "code",
   "execution_count": 2,
   "metadata": {
    "collapsed": false
   },
   "outputs": [],
   "source": [
    "newsgroups_train = fetch_20newsgroups(subset='train', remove=('headers', 'footers', 'quotes'))\n",
    "vec = CountVectorizer(stop_words='english')\n",
    "document_term_mat = vec.fit_transform(newsgroups_train.data)\n",
    "term_document_mat = document_term_mat.T\n",
    "documents = len(newsgroups_train.filenames)\n",
    "categories = len(newsgroups_train.target_names)\n",
    "terms = term_document_mat.shape[0]"
   ]
  },
  {
   "cell_type": "code",
   "execution_count": 3,
   "metadata": {
    "collapsed": false
   },
   "outputs": [
    {
     "name": "stdout",
     "output_type": "stream",
     "text": [
      "No. of documents: 11314\n",
      "No. of categories: 20\n",
      "matrix.shape: (101323, 11314)\n",
      "8\n",
      "<class 'scipy.sparse.csc.csc_matrix'>\n"
     ]
    }
   ],
   "source": [
    "print \"No. of documents: %d\\nNo. of categories: %d\" % (documents, categories)\n",
    "print \"matrix.shape: {0}\".format(term_document_mat.shape)\n",
    "print newsgroups_train.target[10]\n",
    "print type(term_document_mat)"
   ]
  },
  {
   "cell_type": "markdown",
   "metadata": {},
   "source": [
    "### Create Term-category feature-appearance matrix"
   ]
  },
  {
   "cell_type": "code",
   "execution_count": 4,
   "metadata": {
    "collapsed": false
   },
   "outputs": [],
   "source": [
    "term_category_mat = np.zeros((terms, categories))\n",
    "for doc in range(documents):\n",
    "    cat = newsgroups_train.target[doc]\n",
    "    for row in term_document_mat.getcol(doc).nonzero()[0]:\n",
    "        term_category_mat[row][cat] += 1"
   ]
  },
  {
   "cell_type": "code",
   "execution_count": 5,
   "metadata": {
    "collapsed": false
   },
   "outputs": [
    {
     "name": "stdout",
     "output_type": "stream",
     "text": [
      "Term-category matrix shape: (101323, 20)\n"
     ]
    }
   ],
   "source": [
    "print \"Term-category matrix shape: {0}\".format(term_category_mat.shape)"
   ]
  },
  {
   "cell_type": "markdown",
   "metadata": {},
   "source": [
    "### Perform CMFS on term-category matrix"
   ]
  },
  {
   "cell_type": "code",
   "execution_count": 6,
   "metadata": {
    "collapsed": false
   },
   "outputs": [
    {
     "name": "stdout",
     "output_type": "stream",
     "text": [
      "[[  2.92719610e-08   7.28597222e-06   2.78309396e-06 ...,   5.88282467e-07\n",
      "    2.72656836e-06   1.18472355e-07]\n",
      " [  1.33768710e-06   2.15000369e-06   3.43217261e-07 ...,   5.26920017e-05\n",
      "    1.01714536e-05   1.35350464e-06]\n",
      " [  2.85130583e-07   2.77229556e-07   2.24044601e-07 ...,   9.16849120e-07\n",
      "    2.65587955e-07   2.88502123e-07]\n",
      " ..., \n",
      " [  3.66596463e-07   3.56438001e-07   2.88057344e-07 ...,   2.94701503e-07\n",
      "    3.41470227e-07   3.70931301e-07]\n",
      " [  3.66596463e-07   3.56438001e-07   2.88057344e-07 ...,   2.94701503e-07\n",
      "    3.41470227e-07   3.70931301e-07]\n",
      " [  3.66596463e-07   3.56438001e-07   2.88057344e-07 ...,   2.94701503e-07\n",
      "    3.41470227e-07   3.70931301e-07]]\n"
     ]
    }
   ],
   "source": [
    "term_freq_per_cat = np.cumsum(term_category_mat, axis=0)[-1, :]\n",
    "for term in range(terms):\n",
    "    # Frequency of the term across all categories\n",
    "    # Standard CMFS\n",
    "    total_term_freq = sum(term_category_mat[term, :])\n",
    "    for cat in range(categories):\n",
    "        numerator = float((term_category_mat[term][cat] + 1) ** 2)\n",
    "        denominator = (total_term_freq + categories) * (term_freq_per_cat[cat] + terms)\n",
    "        term_category_mat[term][cat] = numerator / denominator\n",
    "        \n",
    "# Final CMFS matrix\n",
    "print term_category_mat"
   ]
  },
  {
   "cell_type": "markdown",
   "metadata": {},
   "source": [
    "### Create term-cmfs dictionary"
   ]
  },
  {
   "cell_type": "code",
   "execution_count": 7,
   "metadata": {
    "collapsed": false
   },
   "outputs": [],
   "source": [
    "# Create term id (i.e. row no) - CMFS dict\n",
    "term_cmfs_dict = {}\n",
    "cmfs_max = np.max(term_category_mat, axis=1)\n",
    "for i in range(terms):\n",
    "    term_cmfs_dict[i] = cmfs_max[i]"
   ]
  },
  {
   "cell_type": "markdown",
   "metadata": {},
   "source": [
    "### Extract top 2000 features"
   ]
  },
  {
   "cell_type": "code",
   "execution_count": 8,
   "metadata": {
    "collapsed": false
   },
   "outputs": [],
   "source": [
    "# Integer to term mapping dictionary\n",
    "dictionary = vec.get_feature_names()\n",
    "\n",
    "sorted_feature_list = sorted(term_cmfs_dict.items(), key=operator.itemgetter(1), reverse=True)[:2000]\n",
    "# print \"-------Selected features are-------\\n\"\n",
    "# for term, cmfs in sorted_feature_list:\n",
    "#     print \"Term: {0} \\t CMFS: {1}\".format(dictionary[term], cmfs)"
   ]
  },
  {
   "cell_type": "markdown",
   "metadata": {},
   "source": [
    "### Naive bayes"
   ]
  },
  {
   "cell_type": "code",
   "execution_count": 9,
   "metadata": {
    "collapsed": false
   },
   "outputs": [
    {
     "name": "stdout",
     "output_type": "stream",
     "text": [
      "(11314, 2000)\n"
     ]
    }
   ],
   "source": [
    "feature_list = [term for term, _ in sorted_feature_list]\n",
    "# Create matrix for only the selected features. Note that the features are being extracted\n",
    "# on the original document-term matrix. This will help in mapping with the targets easily.\n",
    "selected_feature_matrix = document_term_mat[:, feature_list]\n",
    "print selected_feature_matrix.shape"
   ]
  },
  {
   "cell_type": "code",
   "execution_count": 10,
   "metadata": {
    "collapsed": false
   },
   "outputs": [],
   "source": [
    "newsgroups_test = fetch_20newsgroups(subset='test', remove=('headers', 'footers', 'quotes'))\n",
    "document_term_mat_test = vec.transform(newsgroups_test.data)\n",
    "clf = MultinomialNB().fit(selected_feature_matrix, newsgroups_train.target)"
   ]
  },
  {
   "cell_type": "markdown",
   "metadata": {},
   "source": [
    "### Evaluate accuracy"
   ]
  },
  {
   "cell_type": "code",
   "execution_count": 11,
   "metadata": {
    "collapsed": false
   },
   "outputs": [
    {
     "name": "stdout",
     "output_type": "stream",
     "text": [
      "0.592272968667\n"
     ]
    }
   ],
   "source": [
    "pred = clf.predict(document_term_mat_test[:, feature_list])\n",
    "print metrics.f1_score(newsgroups_test.target, pred, average='micro')"
   ]
  },
  {
   "cell_type": "code",
   "execution_count": 12,
   "metadata": {
    "collapsed": false
   },
   "outputs": [],
   "source": [
    "cmfs_scores = []\n",
    "for i in range(200, 2001, 200):\n",
    "    feature_list = [term for term, _ in sorted_feature_list[:i]]\n",
    "    selected_feature_matrix = document_term_mat[:, feature_list]\n",
    "    clf = MultinomialNB().fit(selected_feature_matrix, newsgroups_train.target)\n",
    "    pred = clf.predict(document_term_mat_test[:, feature_list])\n",
    "    f1_score = metrics.f1_score(newsgroups_test.target, pred, average='micro')\n",
    "    cmfs_scores.append(f1_score * 100)"
   ]
  },
  {
   "cell_type": "markdown",
   "metadata": {},
   "source": [
    "### Test with chi2"
   ]
  },
  {
   "cell_type": "code",
   "execution_count": null,
   "metadata": {
    "collapsed": false
   },
   "outputs": [],
   "source": [
    "ch2_scores = []\n",
    "for i in range(200, 2001, 200):\n",
    "    ch2 = SelectKBest(chi2, k=i)\n",
    "    ch2_train = ch2.fit_transform(document_term_mat, newsgroups_train.target)\n",
    "    ch2_test = ch2.transform(document_term_mat_test)\n",
    "    clf = MultinomialNB().fit(ch2_train, newsgroups_train.target)\n",
    "    pred = clf.predict(ch2_test)\n",
    "    f1_score = metrics.f1_score(newsgroups_test.target, pred, average='micro')\n",
    "    ch2_scores.append(f1_score * 100)"
   ]
  },
  {
   "cell_type": "markdown",
   "metadata": {},
   "source": [
    "### Plot Accuracy vs Number of features graph"
   ]
  },
  {
   "cell_type": "code",
   "execution_count": 25,
   "metadata": {
    "collapsed": false
   },
   "outputs": [
    {
     "data": {
      "image/png": "[encoded data removed]",
      "text/plain": [
       "<matplotlib.figure.Figure at 0x7fcad814fdd0>"
      ]
     },
     "metadata": {},
     "output_type": "display_data"
    }
   ],
   "source": [
    "x = [i for i in range(200, 2001, 200)]\n",
    "plt.plot(x, cmfs_scores, x, ch2_scores)\n",
    "plt.xlabel(\"No of features\")\n",
    "plt.ylabel(\"Accuracy\")\n",
    "plt.legend((\"CMFS\", \"chi2\"), loc='best')\n",
    "plt.show()"
   ]
  },
  {
   "cell_type": "code",
   "execution_count": null,
   "metadata": {
    "collapsed": true
   },
   "outputs": [],
   "source": []
  }
 ],
 "metadata": {
  "kernelspec": {
   "display_name": "Python 2",
   "language": "python",
   "name": "python2"
  },
  "language_info": {
   "codemirror_mode": {
    "name": "ipython",
    "version": 2
   },
   "file_extension": ".py",
   "mimetype": "text/x-python",
   "name": "python",
   "nbconvert_exporter": "python",
   "pygments_lexer": "ipython2",
   "version": "2.7.10"
  }
 },
 "nbformat": 4,
 "nbformat_minor": 0
}
